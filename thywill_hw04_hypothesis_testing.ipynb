{
  "cells": [
    {
      "cell_type": "markdown",
      "metadata": {
        "id": "HAlUMJjFf8dj"
      },
      "source": [
        "About the homework: In some tasks, in addition to writing code, answers to questions and conclusions are required (there are special Markdown cells marked with **Answer**).\n",
        "\n",
        "The ability to analyze the results of experiments is an important skill. Therefore, answers carry more weight than the code: the code accounts for 30% of the task grade, while answers to questions account for 70%."
      ]
    },
    {
      "cell_type": "code",
      "execution_count": null,
      "metadata": {
        "id": "DweY5baDaIvw"
      },
      "outputs": [],
      "source": [
        "import matplotlib.pyplot as plt\n",
        "import numpy as np\n",
        "import pandas as pd\n",
        "import seaborn as sns"
      ]
    },
    {
      "cell_type": "markdown",
      "metadata": {
        "id": "lu5EAdGTZyUR"
      },
      "source": [
        "Download the [train.csv](https://www.kaggle.com/competitions/house-prices-advanced-regression-techniques/data?select=train.csv) with House Prices"
      ]
    },
    {
      "cell_type": "code",
      "execution_count": null,
      "metadata": {
        "id": "LxNAU8tuZcXE",
        "outputId": "cb537378-249a-4aef-b252-74d648fdba3a"
      },
      "outputs": [
        {
          "data": {
            "text/html": [
              "<div>\n",
              "<style scoped>\n",
              "    .dataframe tbody tr th:only-of-type {\n",
              "        vertical-align: middle;\n",
              "    }\n",
              "\n",
              "    .dataframe tbody tr th {\n",
              "        vertical-align: top;\n",
              "    }\n",
              "\n",
              "    .dataframe thead th {\n",
              "        text-align: right;\n",
              "    }\n",
              "</style>\n",
              "<table border=\"1\" class=\"dataframe\">\n",
              "  <thead>\n",
              "    <tr style=\"text-align: right;\">\n",
              "      <th></th>\n",
              "      <th>Id</th>\n",
              "      <th>MSSubClass</th>\n",
              "      <th>MSZoning</th>\n",
              "      <th>LotFrontage</th>\n",
              "      <th>LotArea</th>\n",
              "      <th>Street</th>\n",
              "      <th>Alley</th>\n",
              "      <th>LotShape</th>\n",
              "      <th>LandContour</th>\n",
              "      <th>Utilities</th>\n",
              "      <th>...</th>\n",
              "      <th>PoolArea</th>\n",
              "      <th>PoolQC</th>\n",
              "      <th>Fence</th>\n",
              "      <th>MiscFeature</th>\n",
              "      <th>MiscVal</th>\n",
              "      <th>MoSold</th>\n",
              "      <th>YrSold</th>\n",
              "      <th>SaleType</th>\n",
              "      <th>SaleCondition</th>\n",
              "      <th>SalePrice</th>\n",
              "    </tr>\n",
              "  </thead>\n",
              "  <tbody>\n",
              "    <tr>\n",
              "      <th>205</th>\n",
              "      <td>206</td>\n",
              "      <td>20</td>\n",
              "      <td>RL</td>\n",
              "      <td>99.0</td>\n",
              "      <td>11851</td>\n",
              "      <td>Pave</td>\n",
              "      <td>NaN</td>\n",
              "      <td>Reg</td>\n",
              "      <td>Lvl</td>\n",
              "      <td>AllPub</td>\n",
              "      <td>...</td>\n",
              "      <td>0</td>\n",
              "      <td>NaN</td>\n",
              "      <td>NaN</td>\n",
              "      <td>NaN</td>\n",
              "      <td>0</td>\n",
              "      <td>5</td>\n",
              "      <td>2009</td>\n",
              "      <td>WD</td>\n",
              "      <td>Normal</td>\n",
              "      <td>180500</td>\n",
              "    </tr>\n",
              "    <tr>\n",
              "      <th>1403</th>\n",
              "      <td>1404</td>\n",
              "      <td>20</td>\n",
              "      <td>RL</td>\n",
              "      <td>49.0</td>\n",
              "      <td>15256</td>\n",
              "      <td>Pave</td>\n",
              "      <td>NaN</td>\n",
              "      <td>IR1</td>\n",
              "      <td>Lvl</td>\n",
              "      <td>AllPub</td>\n",
              "      <td>...</td>\n",
              "      <td>0</td>\n",
              "      <td>NaN</td>\n",
              "      <td>NaN</td>\n",
              "      <td>NaN</td>\n",
              "      <td>0</td>\n",
              "      <td>8</td>\n",
              "      <td>2007</td>\n",
              "      <td>WD</td>\n",
              "      <td>Normal</td>\n",
              "      <td>282922</td>\n",
              "    </tr>\n",
              "    <tr>\n",
              "      <th>1098</th>\n",
              "      <td>1099</td>\n",
              "      <td>50</td>\n",
              "      <td>RM</td>\n",
              "      <td>50.0</td>\n",
              "      <td>6000</td>\n",
              "      <td>Pave</td>\n",
              "      <td>NaN</td>\n",
              "      <td>Reg</td>\n",
              "      <td>Lvl</td>\n",
              "      <td>AllPub</td>\n",
              "      <td>...</td>\n",
              "      <td>0</td>\n",
              "      <td>NaN</td>\n",
              "      <td>NaN</td>\n",
              "      <td>NaN</td>\n",
              "      <td>0</td>\n",
              "      <td>7</td>\n",
              "      <td>2009</td>\n",
              "      <td>WD</td>\n",
              "      <td>Normal</td>\n",
              "      <td>128000</td>\n",
              "    </tr>\n",
              "  </tbody>\n",
              "</table>\n",
              "<p>3 rows × 81 columns</p>\n",
              "</div>"
            ],
            "text/plain": [
              "        Id  MSSubClass MSZoning  LotFrontage  LotArea Street Alley LotShape  \\\n",
              "205    206          20       RL         99.0    11851   Pave   NaN      Reg   \n",
              "1403  1404          20       RL         49.0    15256   Pave   NaN      IR1   \n",
              "1098  1099          50       RM         50.0     6000   Pave   NaN      Reg   \n",
              "\n",
              "     LandContour Utilities  ... PoolArea PoolQC Fence MiscFeature MiscVal  \\\n",
              "205          Lvl    AllPub  ...        0    NaN   NaN         NaN       0   \n",
              "1403         Lvl    AllPub  ...        0    NaN   NaN         NaN       0   \n",
              "1098         Lvl    AllPub  ...        0    NaN   NaN         NaN       0   \n",
              "\n",
              "     MoSold YrSold  SaleType  SaleCondition  SalePrice  \n",
              "205       5   2009        WD         Normal     180500  \n",
              "1403      8   2007        WD         Normal     282922  \n",
              "1098      7   2009        WD         Normal     128000  \n",
              "\n",
              "[3 rows x 81 columns]"
            ]
          },
          "execution_count": 3,
          "metadata": {},
          "output_type": "execute_result"
        }
      ],
      "source": [
        "df = pd.read_csv('train.csv')\n",
        "df.sample(3)"
      ]
    },
    {
      "cell_type": "markdown",
      "metadata": {
        "id": "r5qr-5FNcoK4"
      },
      "source": [
        "# Task 1 (2 points)"
      ]
    },
    {
      "cell_type": "markdown",
      "metadata": {
        "id": "X8i7rRd5aUr4"
      },
      "source": [
        "Test the hypothesis that the expected value ($\\mu$) of size of garage in square feet (`'GarageArea'`) is 485. Use two-sided alternative hypothesis. Choose the test that is suitable for the data (and explain, why).\n",
        "\n",
        "Do we reject/accept the hypothesis if $\\alpha = 5\\%$ ? And if $\\alpha = 1\\%$ ?"
      ]
    },
    {
      "cell_type": "code",
      "execution_count": null,
      "metadata": {
        "id": "Pe-uRG6Qboc6",
        "outputId": "df573524-0ecc-4322-a8bb-a987c5daad46"
      },
      "outputs": [
        {
          "name": "stdout",
          "output_type": "stream",
          "text": [
            "t-statistic: -2.1481193678999415\n",
            "p-value: 0.03186850064864378\n",
            "Reject the null hypothesis at the 5% significance level.\n",
            "Fail to reject the null hypothesis at the 1% significance level.\n"
          ]
        }
      ],
      "source": [
        "#YOUR CODE\n",
        "\n",
        "from scipy import stats\n",
        "\n",
        "# Testing if mean GarageArea is 485 square feet\n",
        "garage_area = df['GarageArea'].dropna()  # Drop NaN values to avoid errors in calculation\n",
        "\n",
        "# Setting the hypothesized mean and significance levels\n",
        "hypothesized_mean = 485\n",
        "alpha_5_percent = 0.05\n",
        "alpha_1_percent = 0.01\n",
        "\n",
        "# Performing the one-sample t-test\n",
        "t_stat, p_value = stats.ttest_1samp(garage_area, hypothesized_mean)\n",
        "\n",
        "print(f\"t-statistic: {t_stat}\")\n",
        "print(f\"p-value: {p_value}\")\n",
        "\n",
        "# Decision based on the significance level\n",
        "if p_value < alpha_5_percent:\n",
        "    print(\"Reject the null hypothesis at the 5% significance level.\")\n",
        "else:\n",
        "    print(\"Fail to reject the null hypothesis at the 5% significance level.\")\n",
        "\n",
        "if p_value < alpha_1_percent:\n",
        "    print(\"Reject the null hypothesis at the 1% significance level.\")\n",
        "else:\n",
        "    print(\"Fail to reject the null hypothesis at the 1% significance level.\")\n"
      ]
    },
    {
      "cell_type": "markdown",
      "metadata": {
        "id": "vHStlTZym236"
      },
      "source": [
        "**Answer** \\#YOUR ANSWER\n",
        "\n",
        "The p value test is suitable for the distribution. the p-value  tells you how likely the data you have observed is to have occurred under the null hypothesis.\n",
        "We fail to reject the null hipotesis at 1% significant level and reject the null hypothesis at the 5% signicance level."
      ]
    },
    {
      "cell_type": "markdown",
      "metadata": {
        "id": "GL4aHBXNgm80"
      },
      "source": [
        "# Task 2 (2 points)"
      ]
    },
    {
      "cell_type": "markdown",
      "metadata": {
        "id": "KsKm3GCyhEK1"
      },
      "source": [
        "Is the condition of the material on the exterior (`'ExterCond'`) independent of the exterior material quality (`'ExterQual'`)?\n",
        "\n",
        "Find it out using hypothesis testing ($\\alpha = 5\\%$)"
      ]
    },
    {
      "cell_type": "code",
      "execution_count": null,
      "metadata": {
        "id": "0W4jcsLigVNV",
        "outputId": "b3557882-8fd4-458d-b314-80f43121192c"
      },
      "outputs": [
        {
          "name": "stdout",
          "output_type": "stream",
          "text": [
            "Chi-square Statistic: 156.2895311162874\n",
            "p-value: 2.9908872405484838e-27\n",
            "Reject the null hypothesis: ExterCond and ExterQual are not independent.\n"
          ]
        }
      ],
      "source": [
        "#YOUR CODE\n",
        "\n",
        "from scipy.stats import chi2_contingency\n",
        "\n",
        "\n",
        "# Creating a contingency table of ExterCond and ExterQual\n",
        "contingency_table = pd.crosstab(df['ExterCond'], df['ExterQual'])\n",
        "\n",
        "# Performing the chi-square test of independence\n",
        "chi2_stat, p_value, dof, expected = chi2_contingency(contingency_table)\n",
        "\n",
        "print(\"Chi-square Statistic:\", chi2_stat)\n",
        "print(\"p-value:\", p_value)\n",
        "\n",
        "# Determining if we reject or fail to reject the null hypothesis at α = 5%\n",
        "alpha = 0.05\n",
        "if p_value < alpha:\n",
        "    print(\"Reject the null hypothesis: ExterCond and ExterQual are not independent.\")\n",
        "else:\n",
        "    print(\"Fail to reject the null hypothesis: ExterCond and ExterQual are independent.\")\n"
      ]
    },
    {
      "cell_type": "markdown",
      "metadata": {
        "id": "-PkBhjtYiESc"
      },
      "source": [
        "**Answer** \\#YOUR ANSWER.\n",
        "both the material and the quality are not independent of eachother."
      ]
    },
    {
      "cell_type": "markdown",
      "metadata": {
        "id": "hyUKdQp3i9ii"
      },
      "source": [
        "# Task 3 (2 points)"
      ]
    },
    {
      "cell_type": "markdown",
      "metadata": {
        "id": "icVhlPrTjBeB"
      },
      "source": [
        "The *United Housing Journal™* conducted theoretical research and calculated the probabilities that house is located in a particular zone (`'MSZoning'`):\n",
        "\n",
        "* $0.01$ - Agriculture\n",
        "* $0.01$ - Commercial\n",
        "* $0.05$ - Floating Village Residential\n",
        "* $0.01$ - Industrial\n",
        "* $0.01$ - Residential High Density\n",
        "* $0.8$ - Residential Low Density\n",
        "* $0.01$ - Residential Low Density Park\n",
        "* $0.1$ - Residential Medium Density\n",
        "\n",
        "Does the data from our dataset follow this distribution?\n",
        "\n",
        "Find it out using hypothesis testing ($\\alpha = 5\\%$)"
      ]
    },
    {
      "cell_type": "code",
      "execution_count": null,
      "metadata": {
        "id": "QxKoPr7Iiekw",
        "outputId": "0038f729-1c50-4fdc-901d-26996bb349e9"
      },
      "outputs": [
        {
          "name": "stdout",
          "output_type": "stream",
          "text": [
            "Chi-square Statistic: 95.75258620689655\n",
            "p-value: 8.111526055720843e-18\n",
            "Reject the null hypothesis: The data does not follow the theoretical distribution.\n"
          ]
        }
      ],
      "source": [
        "#YOUR CODE\n",
        "\n",
        "\n",
        "from scipy.stats import chisquare\n",
        "\n",
        "# Defining the theoretical probabilities from the *United Housing Journal™*\n",
        "theoretical_probs = {\n",
        "    'A': 0.01,  # Agriculture\n",
        "    'C': 0.01,  # Commercial\n",
        "    'FV': 0.05, # Floating Village Residential\n",
        "    'I': 0.01,  # Industrial\n",
        "    'RH': 0.01, # Residential High Density\n",
        "    'RL': 0.8,  # Residential Low Density\n",
        "    'RP': 0.01, # Residential Low Density Park\n",
        "    'RM': 0.1   # Residential Medium Density\n",
        "}\n",
        "\n",
        "# Calculating the observed frequencies from the dataset\n",
        "observed_counts = df['MSZoning'].value_counts().reindex(theoretical_probs.keys(), fill_value=0)\n",
        "\n",
        "# Calculating the expected frequencies based on the theoretical probabilities\n",
        "total_count = observed_counts.sum()\n",
        "expected_counts = [total_count * prob for prob in theoretical_probs.values()]\n",
        "\n",
        "# Performing the chi-square goodness-of-fit test\n",
        "chi2_stat, p_value = chisquare(f_obs=observed_counts, f_exp=expected_counts)\n",
        "\n",
        "print(\"Chi-square Statistic:\", chi2_stat)\n",
        "print(\"p-value:\", p_value)\n",
        "\n",
        "# Decision based on significance level α = 5%\n",
        "alpha = 0.05\n",
        "if p_value < alpha:\n",
        "    print(\"Reject the null hypothesis: The data does not follow the theoretical distribution.\")\n",
        "else:\n",
        "    print(\"Fail to reject the null hypothesis: The data follows the theoretical distribution.\")\n"
      ]
    },
    {
      "cell_type": "markdown",
      "metadata": {
        "id": "HNpKpPkVlxC_"
      },
      "source": [
        "**Answer** \\#YOUR ANSWER\n",
        "\n",
        "Using a significant level of 5%, the data does not follow the theoretical distribution."
      ]
    },
    {
      "cell_type": "markdown",
      "metadata": {
        "id": "U2rlNgzRmMKl"
      },
      "source": [
        "#Task 4 (2 points)"
      ]
    },
    {
      "cell_type": "markdown",
      "metadata": {
        "id": "9QWYTGGtmOHq"
      },
      "source": [
        "Let's compare houses that has access to differnet types of alleys (`'Alley'`). Do they have the same linear feet of street connected to property (`'LotFrontage'`)?\n",
        "\n",
        "Find it out using hypothesis testing ($\\alpha = 5\\%$)"
      ]
    },
    {
      "cell_type": "code",
      "execution_count": null,
      "metadata": {
        "id": "t0FC8dewmFgt",
        "outputId": "a4cc6309-142b-461d-9d19-e5ffeb8b88e3"
      },
      "outputs": [
        {
          "name": "stdout",
          "output_type": "stream",
          "text": [
            "F-statistic: 14.11276801696159\n",
            "p-value: 0.0003167170921464645\n",
            "Reject the null hypothesis: There is a significant difference in LotFrontage among different alley types.\n"
          ]
        }
      ],
      "source": [
        "#YOUR CODE\n",
        "\n",
        "\n",
        "from scipy.stats import f_oneway\n",
        "\n",
        "# Dropping rows where 'LotFrontage' or 'Alley' is NaN to ensure valid comparison\n",
        "df = df[['LotFrontage', 'Alley']].dropna()\n",
        "\n",
        "# Grouping 'LotFrontage' values by different types of 'Alley'\n",
        "gravel_frontage = df[df['Alley'] == 'Grvl']['LotFrontage']\n",
        "paved_frontage = df[df['Alley'] == 'Pave']['LotFrontage']\n",
        "no_alley_frontage = df[df['Alley'].isnull()]['LotFrontage']\n",
        "\n",
        "# Performing the one-way ANOVA test\n",
        "f_stat, p_value = f_oneway(gravel_frontage, paved_frontage)\n",
        "\n",
        "print(\"F-statistic:\", f_stat)\n",
        "print(\"p-value:\", p_value)\n",
        "\n",
        "# Decision based on the significance level α = 5%\n",
        "alpha = 0.05\n",
        "if p_value < alpha:\n",
        "    print(\"Reject the null hypothesis: There is a significant difference in LotFrontage among different alley types.\")\n",
        "else:\n",
        "    print(\"Fail to reject the null hypothesis: There is no significant difference in LotFrontage among different alley types.\")\n"
      ]
    },
    {
      "cell_type": "markdown",
      "metadata": {
        "id": "QtfimHyBoLX4"
      },
      "source": [
        "**Answer** \\#YOUR ANSWER\n",
        "\n",
        "There is a significant  difference in the lotfrontage among different alley types."
      ]
    },
    {
      "cell_type": "markdown",
      "metadata": {
        "id": "kX-sgu9-dRA1"
      },
      "source": [
        "# Task 5 (2 points)"
      ]
    },
    {
      "cell_type": "markdown",
      "metadata": {
        "id": "bzg9XYRvdUwQ"
      },
      "source": [
        "Find features with the maximal positive/negative correlation. Does it seem logical? Why/why not?"
      ]
    },
    {
      "cell_type": "code",
      "execution_count": null,
      "metadata": {
        "id": "fAHU1J31ctx0",
        "outputId": "397e5334-6a8c-4707-9ff7-96b78584c851"
      },
      "outputs": [
        {
          "name": "stdout",
          "output_type": "stream",
          "text": [
            "Max positive correlation: (('GarageCars', 'GarageArea'), 0.882475414281462)\n",
            "Max negative correlation: (('BsmtFinSF1', 'BsmtUnfSF'), -0.49525146925701125)\n"
          ]
        }
      ],
      "source": [
        "\n",
        "# Selecting only the numeric columns for correlation calculation\n",
        "numeric_df = df.select_dtypes(include=['float64', 'int64'])\n",
        "\n",
        "# Calculating the correlation matrix\n",
        "correlation_matrix = numeric_df.corr()\n",
        "\n",
        "# Find the maximal positive and negative correlation\n",
        "# Stack the matrix to get pairwise correlations and filter out self-correlations\n",
        "correlation_pairs = correlation_matrix.unstack()\n",
        "correlation_pairs = correlation_pairs[correlation_pairs.index.get_level_values(0) != correlation_pairs.index.get_level_values(1)]\n",
        "\n",
        "# Finding the max positive and min negative correlation\n",
        "max_positive_correlation = correlation_pairs.idxmax(), correlation_pairs.max()\n",
        "max_negative_correlation = correlation_pairs.idxmin(), correlation_pairs.min()\n",
        "\n",
        "print(\"Max positive correlation:\", max_positive_correlation)\n",
        "print(\"Max negative correlation:\", max_negative_correlation)\n"
      ]
    },
    {
      "cell_type": "markdown",
      "metadata": {
        "id": "7l0IRJtFd202"
      },
      "source": [
        "**Answer** \\#YOUR ANSWER\n",
        "it is logical. this is because the garage cars are parked in the garage so they must be able to fit in the garage hence the positive correlation. the other is not logical because there is no correlation.\n"
      ]
    },
    {
      "cell_type": "code",
      "execution_count": null,
      "metadata": {
        "id": "yBp-n9lmd202"
      },
      "outputs": [],
      "source": []
    }
  ],
  "metadata": {
    "colab": {
      "provenance": [],
      "toc_visible": true
    },
    "kernelspec": {
      "display_name": "Python 3 (ipykernel)",
      "language": "python",
      "name": "python3"
    },
    "language_info": {
      "codemirror_mode": {
        "name": "ipython",
        "version": 3
      },
      "file_extension": ".py",
      "mimetype": "text/x-python",
      "name": "python",
      "nbconvert_exporter": "python",
      "pygments_lexer": "ipython3",
      "version": "3.12.4"
    }
  },
  "nbformat": 4,
  "nbformat_minor": 0
}